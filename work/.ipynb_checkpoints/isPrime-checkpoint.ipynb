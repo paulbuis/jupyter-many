{
 "cells": [
  {
   "cell_type": "markdown",
   "metadata": {},
   "source": [
    "*包含头文件"
   ]
  },
  {
   "cell_type": "code",
   "execution_count": 1,
   "metadata": {},
   "outputs": [],
   "source": [
    "#include <iostream>\n",
    "#include <stdio.h>"
   ]
  },
  {
   "cell_type": "markdown",
   "metadata": {},
   "source": [
    "* 定义是否是质数的函数\n",
    "\n",
    "调用返回0表示`False`不是质数，返回1表示`True`是质数"
   ]
  },
  {
   "cell_type": "code",
   "execution_count": null,
   "metadata": {},
   "outputs": [],
   "source": [
    "int isPrime(int number) {\n",
    "  int result = 1;\n",
    "  for(int i = 2; i < number; i ++) {\n",
    "    if(number % i == 0) {\n",
    "      result = 0;\n",
    "      break;\n",
    "    }\n",
    "  }\n",
    "  return result;\n",
    "}\n"
   ]
  },
  {
   "cell_type": "markdown",
   "metadata": {},
   "source": [
    "* main方法，程序入口"
   ]
  },
  {
   "cell_type": "code",
   "execution_count": null,
   "metadata": {},
   "outputs": [],
   "source": [
    "int main() {\n",
    "    for(int i = 3; i < 10; i++) {\n",
    "        int result = isPrime(i);\n",
    "        if(result) {\n",
    "            std::cout << i << \"is a prime\" << endl;\n",
    "        }\n",
    "        else {\n",
    "            std::cout << i << \"is a not prime\" << endl;\n",
    "        }\n",
    "    }\n",
    "}"
   ]
  },
  {
   "cell_type": "code",
   "execution_count": null,
   "metadata": {},
   "outputs": [],
   "source": []
  }
 ],
 "metadata": {
  "kernelspec": {
   "display_name": "C++14",
   "language": "C++14",
   "name": "xeus-cling-cpp14"
  },
  "language_info": {
   "codemirror_mode": "text/x-c++src",
   "file_extension": ".cpp",
   "mimetype": "text/x-c++src",
   "name": "c++",
   "version": ""
  }
 },
 "nbformat": 4,
 "nbformat_minor": 2
}
